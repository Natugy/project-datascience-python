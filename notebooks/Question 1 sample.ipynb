{
 "cells": [
  {
   "cell_type": "markdown",
   "id": "dedd5bb0-0c41-4e99-9e13-0aabaeac9bba",
   "metadata": {},
   "source": [
    "# Sample code for Question 1\n",
    "\n",
    "This notebook shows how you can use the provided Python function to pull player stats from an online website.\n",
    "This function lives in a custom package that is provided to you in this repository.\n",
    "You are encouraged to leverage this package as a skeleton and add all of your reusable code, functions, etc. into relevant modules.\n",
    "This makes collaboration much easier as the package could be seen as a \"single source of truth\" to pull data, create visualizations, etc. rather than relying on a jumble of notebooks.\n",
    "You can still run into trouble if branches are not frequently merged as work progresses, so try to not let your branches diverge too much."
   ]
  },
  {
   "cell_type": "code",
   "execution_count": 1,
   "id": "51fe610c-9647-48a6-a49c-c0ee26d5b28b",
   "metadata": {},
   "outputs": [],
   "source": [
    "from ift6758.data import get_player_stats"
   ]
  },
  {
   "cell_type": "markdown",
   "id": "64ac3fbd-9100-43df-b100-b3589a34602b",
   "metadata": {},
   "source": [
    "If the above doesn't work for you, make sure you've installed the repo as specified in the readme file. \n",
    "Essentially you must make sure that your environment is setup (either through conda or virtualenv), and then install it using:\n",
    "\n",
    "```bash\n",
    "pip install -e /path/to/repo \n",
    "```\n",
    "\n",
    "The nice thing using this approach is if you have your environment activated, you can import modules from anywhere on your system!"
   ]
  },
  {
   "cell_type": "code",
   "execution_count": 2,
   "id": "663c6229-089f-4244-945e-e81540698e3e",
   "metadata": {},
   "outputs": [
    {
     "name": "stdout",
     "output_type": "stream",
     "text": [
      "Retrieving data from 'https://www.hockey-reference.com/leagues/NHL_2016_goalies.html'...\n"
     ]
    },
    {
     "ename": "KeyError",
     "evalue": "'Tm'",
     "output_type": "error",
     "traceback": [
      "\u001b[31m---------------------------------------------------------------------------\u001b[39m",
      "\u001b[31mKeyError\u001b[39m                                  Traceback (most recent call last)",
      "\u001b[36mFile \u001b[39m\u001b[32mc:\\Users\\tangu\\miniconda3\\envs\\ift6758-conda-env\\Lib\\site-packages\\pandas\\core\\indexes\\base.py:3812\u001b[39m, in \u001b[36mIndex.get_loc\u001b[39m\u001b[34m(self, key)\u001b[39m\n\u001b[32m   3811\u001b[39m \u001b[38;5;28;01mtry\u001b[39;00m:\n\u001b[32m-> \u001b[39m\u001b[32m3812\u001b[39m     \u001b[38;5;28;01mreturn\u001b[39;00m \u001b[38;5;28;43mself\u001b[39;49m\u001b[43m.\u001b[49m\u001b[43m_engine\u001b[49m\u001b[43m.\u001b[49m\u001b[43mget_loc\u001b[49m\u001b[43m(\u001b[49m\u001b[43mcasted_key\u001b[49m\u001b[43m)\u001b[49m\n\u001b[32m   3813\u001b[39m \u001b[38;5;28;01mexcept\u001b[39;00m \u001b[38;5;167;01mKeyError\u001b[39;00m \u001b[38;5;28;01mas\u001b[39;00m err:\n",
      "\u001b[36mFile \u001b[39m\u001b[32mpandas/_libs/index.pyx:167\u001b[39m, in \u001b[36mpandas._libs.index.IndexEngine.get_loc\u001b[39m\u001b[34m()\u001b[39m\n",
      "\u001b[36mFile \u001b[39m\u001b[32mpandas/_libs/index.pyx:196\u001b[39m, in \u001b[36mpandas._libs.index.IndexEngine.get_loc\u001b[39m\u001b[34m()\u001b[39m\n",
      "\u001b[36mFile \u001b[39m\u001b[32mpandas/_libs/hashtable_class_helper.pxi:7088\u001b[39m, in \u001b[36mpandas._libs.hashtable.PyObjectHashTable.get_item\u001b[39m\u001b[34m()\u001b[39m\n",
      "\u001b[36mFile \u001b[39m\u001b[32mpandas/_libs/hashtable_class_helper.pxi:7096\u001b[39m, in \u001b[36mpandas._libs.hashtable.PyObjectHashTable.get_item\u001b[39m\u001b[34m()\u001b[39m\n",
      "\u001b[31mKeyError\u001b[39m: 'Tm'",
      "\nThe above exception was the direct cause of the following exception:\n",
      "\u001b[31mKeyError\u001b[39m                                  Traceback (most recent call last)",
      "\u001b[36mCell\u001b[39m\u001b[36m \u001b[39m\u001b[32mIn[2]\u001b[39m\u001b[32m, line 1\u001b[39m\n\u001b[32m----> \u001b[39m\u001b[32m1\u001b[39m df = \u001b[43mget_player_stats\u001b[49m\u001b[43m(\u001b[49m\u001b[32;43m2016\u001b[39;49m\u001b[43m,\u001b[49m\u001b[43m \u001b[49m\u001b[33;43m'\u001b[39;49m\u001b[33;43mgoalies\u001b[39;49m\u001b[33;43m'\u001b[39;49m\u001b[43m)\u001b[49m\n",
      "\u001b[36mFile \u001b[39m\u001b[32mc:\\users\\tangu\\onedrive\\documents\\udem\\datascience\\projet\\project-template-main\\ift6758\\data\\question_1.py:30\u001b[39m, in \u001b[36mget_player_stats\u001b[39m\u001b[34m(year, player_type)\u001b[39m\n\u001b[32m     27\u001b[39m df = pd.read_html(url, header=\u001b[32m1\u001b[39m)[\u001b[32m0\u001b[39m]\n\u001b[32m     29\u001b[39m \u001b[38;5;66;03m# get players which changed teams during a season\u001b[39;00m\n\u001b[32m---> \u001b[39m\u001b[32m30\u001b[39m players_multiple_teams = df[\u001b[43mdf\u001b[49m\u001b[43m[\u001b[49m\u001b[33;43m'\u001b[39;49m\u001b[33;43mTm\u001b[39;49m\u001b[33;43m'\u001b[39;49m\u001b[43m]\u001b[49m.isin([\u001b[33m'\u001b[39m\u001b[33mTOT\u001b[39m\u001b[33m'\u001b[39m])]\n\u001b[32m     32\u001b[39m \u001b[38;5;66;03m# filter out players who played on multiple teams\u001b[39;00m\n\u001b[32m     33\u001b[39m df = df[~df[\u001b[33m'\u001b[39m\u001b[33mPlayer\u001b[39m\u001b[33m'\u001b[39m].isin(players_multiple_teams[\u001b[33m'\u001b[39m\u001b[33mPlayer\u001b[39m\u001b[33m'\u001b[39m])]\n",
      "\u001b[36mFile \u001b[39m\u001b[32mc:\\Users\\tangu\\miniconda3\\envs\\ift6758-conda-env\\Lib\\site-packages\\pandas\\core\\frame.py:4107\u001b[39m, in \u001b[36mDataFrame.__getitem__\u001b[39m\u001b[34m(self, key)\u001b[39m\n\u001b[32m   4105\u001b[39m \u001b[38;5;28;01mif\u001b[39;00m \u001b[38;5;28mself\u001b[39m.columns.nlevels > \u001b[32m1\u001b[39m:\n\u001b[32m   4106\u001b[39m     \u001b[38;5;28;01mreturn\u001b[39;00m \u001b[38;5;28mself\u001b[39m._getitem_multilevel(key)\n\u001b[32m-> \u001b[39m\u001b[32m4107\u001b[39m indexer = \u001b[38;5;28;43mself\u001b[39;49m\u001b[43m.\u001b[49m\u001b[43mcolumns\u001b[49m\u001b[43m.\u001b[49m\u001b[43mget_loc\u001b[49m\u001b[43m(\u001b[49m\u001b[43mkey\u001b[49m\u001b[43m)\u001b[49m\n\u001b[32m   4108\u001b[39m \u001b[38;5;28;01mif\u001b[39;00m is_integer(indexer):\n\u001b[32m   4109\u001b[39m     indexer = [indexer]\n",
      "\u001b[36mFile \u001b[39m\u001b[32mc:\\Users\\tangu\\miniconda3\\envs\\ift6758-conda-env\\Lib\\site-packages\\pandas\\core\\indexes\\base.py:3819\u001b[39m, in \u001b[36mIndex.get_loc\u001b[39m\u001b[34m(self, key)\u001b[39m\n\u001b[32m   3814\u001b[39m     \u001b[38;5;28;01mif\u001b[39;00m \u001b[38;5;28misinstance\u001b[39m(casted_key, \u001b[38;5;28mslice\u001b[39m) \u001b[38;5;129;01mor\u001b[39;00m (\n\u001b[32m   3815\u001b[39m         \u001b[38;5;28misinstance\u001b[39m(casted_key, abc.Iterable)\n\u001b[32m   3816\u001b[39m         \u001b[38;5;129;01mand\u001b[39;00m \u001b[38;5;28many\u001b[39m(\u001b[38;5;28misinstance\u001b[39m(x, \u001b[38;5;28mslice\u001b[39m) \u001b[38;5;28;01mfor\u001b[39;00m x \u001b[38;5;129;01min\u001b[39;00m casted_key)\n\u001b[32m   3817\u001b[39m     ):\n\u001b[32m   3818\u001b[39m         \u001b[38;5;28;01mraise\u001b[39;00m InvalidIndexError(key)\n\u001b[32m-> \u001b[39m\u001b[32m3819\u001b[39m     \u001b[38;5;28;01mraise\u001b[39;00m \u001b[38;5;167;01mKeyError\u001b[39;00m(key) \u001b[38;5;28;01mfrom\u001b[39;00m\u001b[38;5;250m \u001b[39m\u001b[34;01merr\u001b[39;00m\n\u001b[32m   3820\u001b[39m \u001b[38;5;28;01mexcept\u001b[39;00m \u001b[38;5;167;01mTypeError\u001b[39;00m:\n\u001b[32m   3821\u001b[39m     \u001b[38;5;66;03m# If we have a listlike key, _check_indexing_error will raise\u001b[39;00m\n\u001b[32m   3822\u001b[39m     \u001b[38;5;66;03m#  InvalidIndexError. Otherwise we fall through and re-raise\u001b[39;00m\n\u001b[32m   3823\u001b[39m     \u001b[38;5;66;03m#  the TypeError.\u001b[39;00m\n\u001b[32m   3824\u001b[39m     \u001b[38;5;28mself\u001b[39m._check_indexing_error(key)\n",
      "\u001b[31mKeyError\u001b[39m: 'Tm'"
     ]
    }
   ],
   "source": [
    "df = get_player_stats(2016, 'goalies')"
   ]
  },
  {
   "cell_type": "markdown",
   "id": "f2288804-5936-45f8-b186-bc9bccbbaf4d",
   "metadata": {},
   "source": [
    "If you're curious, this function uses the `pd.read_html()` method ([doc](https://pandas.pydata.org/pandas-docs/stable/reference/api/pandas.read_html.html)), which internally uses [Beautiful Soup](https://www.crummy.com/software/BeautifulSoup/bs4/doc/) to parse HTML data."
   ]
  },
  {
   "cell_type": "code",
   "execution_count": 3,
   "id": "78f8a1a2-8262-4966-9a8d-38b1e516e2c8",
   "metadata": {},
   "outputs": [
    {
     "ename": "NameError",
     "evalue": "name 'df' is not defined",
     "output_type": "error",
     "traceback": [
      "\u001b[31m---------------------------------------------------------------------------\u001b[39m",
      "\u001b[31mNameError\u001b[39m                                 Traceback (most recent call last)",
      "\u001b[36mCell\u001b[39m\u001b[36m \u001b[39m\u001b[32mIn[3]\u001b[39m\u001b[32m, line 1\u001b[39m\n\u001b[32m----> \u001b[39m\u001b[32m1\u001b[39m \u001b[43mdf\u001b[49m.head()\n",
      "\u001b[31mNameError\u001b[39m: name 'df' is not defined"
     ]
    }
   ],
   "source": [
    "df.head()"
   ]
  },
  {
   "cell_type": "code",
   "execution_count": null,
   "id": "c45b2cd1-ffad-4a03-90ee-b33be167c407",
   "metadata": {},
   "outputs": [],
   "source": []
  }
 ],
 "metadata": {
  "kernelspec": {
   "display_name": "ift6758-conda-env",
   "language": "python",
   "name": "python3"
  },
  "language_info": {
   "codemirror_mode": {
    "name": "ipython",
    "version": 3
   },
   "file_extension": ".py",
   "mimetype": "text/x-python",
   "name": "python",
   "nbconvert_exporter": "python",
   "pygments_lexer": "ipython3",
   "version": "3.13.7"
  }
 },
 "nbformat": 4,
 "nbformat_minor": 5
}
